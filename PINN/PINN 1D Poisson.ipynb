{
 "cells": [
  {
   "cell_type": "code",
   "execution_count": 1,
   "metadata": {},
   "outputs": [],
   "source": [
    "import jax\n",
    "import jax.numpy as jnp\n",
    "import jax.random as jr\n",
    "import matplotlib.pyplot as plt\n",
    "import equinox as eqx\n",
    "import optax"
   ]
  },
  {
   "cell_type": "code",
   "execution_count": 2,
   "metadata": {},
   "outputs": [],
   "source": [
    "N_DOF_FD = 100\n",
    "N_COLLOCATION_POINTS = 200\n",
    "LEARNING_RATE = 1e-3\n",
    "N_EPOCHS = 20_000\n",
    "BC_LOSS_WEIGHT = 100.0"
   ]
  },
  {
   "cell_type": "code",
   "execution_count": 3,
   "metadata": {},
   "outputs": [],
   "source": [
    "# Key setting\n",
    "key = jr.PRNGKey(42)"
   ]
  },
  {
   "cell_type": "code",
   "execution_count": 4,
   "metadata": {},
   "outputs": [],
   "source": [
    "key, init_key = jr.split(key)\n",
    "pinn = eqx.nn.MLP(\n",
    "    in_size=\"scalar\",\n",
    "    out_size=\"scalar\",\n",
    "    width_size=10,\n",
    "    depth=4,\n",
    "    activation=jax.nn.sigmoid,\n",
    "    key=init_key,\n",
    ")"
   ]
  },
  {
   "cell_type": "code",
   "execution_count": 5,
   "metadata": {},
   "outputs": [
    {
     "data": {
      "text/plain": [
       "Array(-0.68502796, dtype=float32)"
      ]
     },
     "execution_count": 5,
     "metadata": {},
     "output_type": "execute_result"
    }
   ],
   "source": [
    "pinn(0.2)"
   ]
  },
  {
   "cell_type": "code",
   "execution_count": 6,
   "metadata": {},
   "outputs": [],
   "source": [
    "mesh_full = jnp.linspace(0.0, 1.0, N_DOF_FD + 2)\n",
    "mesh = mesh_full[1:-1]"
   ]
  },
  {
   "cell_type": "code",
   "execution_count": 7,
   "metadata": {},
   "outputs": [],
   "source": [
    "rhs_function = lambda x: jnp.where((x > 0.3) & (x < 0.5), 1.0, 0.0)"
   ]
  },
  {
   "cell_type": "code",
   "execution_count": 8,
   "metadata": {},
   "outputs": [],
   "source": [
    "rhs_values = rhs_function(mesh)"
   ]
  },
  {
   "cell_type": "code",
   "execution_count": 9,
   "metadata": {},
   "outputs": [],
   "source": [
    "dx = mesh[1] - mesh[0]\n",
    "A = jnp.diag(jnp.ones(N_DOF_FD - 1), -1) + jnp.diag(jnp.ones(N_DOF_FD - 1), 1) - jnp.diag(2.0 * jnp.ones(N_DOF_FD))\n",
    "A /= dx ** 2"
   ]
  },
  {
   "cell_type": "code",
   "execution_count": 10,
   "metadata": {},
   "outputs": [],
   "source": [
    "finite_difference_sol = jnp.linalg.solve(A, -rhs_values)"
   ]
  },
  {
   "cell_type": "code",
   "execution_count": 11,
   "metadata": {},
   "outputs": [],
   "source": [
    "wrap_bc = lambda u: jnp.pad(u, (1, 1), mode=\"constant\", constant_values=0.0)"
   ]
  },
  {
   "cell_type": "code",
   "execution_count": 12,
   "metadata": {},
   "outputs": [
    {
     "data": {
      "image/png": "[encoded data removed]",
      "text/plain": [
       "<Figure size 640x480 with 1 Axes>"
      ]
     },
     "metadata": {},
     "output_type": "display_data"
    }
   ],
   "source": [
    "plt.plot(mesh_full, wrap_bc(rhs_values), label=\"Forcing Function\")\n",
    "plt.plot(mesh_full, wrap_bc(finite_difference_sol), label=\"Finite Difference Solution\")\n",
    "plt.plot(mesh_full, jax.vmap(pinn)(mesh_full), label=\"Initial PINN Solution\")\n",
    "plt.legend()\n",
    "plt.grid()\n",
    "plt.show()"
   ]
  },
  {
   "cell_type": "code",
   "execution_count": 13,
   "metadata": {},
   "outputs": [],
   "source": [
    "def pde_residuum(model, x):\n",
    "    return jax.grad(jax.grad(model))(x) + rhs_function(x)"
   ]
  },
  {
   "cell_type": "code",
   "execution_count": 14,
   "metadata": {},
   "outputs": [
    {
     "data": {
      "text/plain": [
       "Array(-2.5913748e-06, dtype=float32)"
      ]
     },
     "execution_count": 14,
     "metadata": {},
     "output_type": "execute_result"
    }
   ],
   "source": [
    "pde_residuum(pinn, 0.8)"
   ]
  },
  {
   "cell_type": "code",
   "execution_count": 15,
   "metadata": {},
   "outputs": [],
   "source": [
    "key, sampling_key = jr.split(key)\n",
    "collocation_points = jr.uniform(sampling_key, (N_COLLOCATION_POINTS,), minval=0.0 + 0.001, maxval=1.0 - 0.001)\n",
    "\n",
    "def loss_fn(model):\n",
    "    pde_residuum_at_collocation_points = jax.vmap(pde_residuum, in_axes=(None, 0))(model, collocation_points)\n",
    "    pde_loss = 0.5 * jnp.mean(pde_residuum_at_collocation_points**2)\n",
    "\n",
    "    left_bc_residuum = model(0.0) - 0.0\n",
    "    right_bc_residuum = model(1.0) - 0.0\n",
    "    bc_loss = 0.5 * (left_bc_residuum**2 + right_bc_residuum**2)\n",
    "\n",
    "    return pde_loss + BC_LOSS_WEIGHT * bc_loss"
   ]
  },
  {
   "cell_type": "code",
   "execution_count": 16,
   "metadata": {},
   "outputs": [
    {
     "data": {
      "text/plain": [
       "Array(47.00226, dtype=float32)"
      ]
     },
     "execution_count": 16,
     "metadata": {},
     "output_type": "execute_result"
    }
   ],
   "source": [
    "loss_fn(pinn)"
   ]
  },
  {
   "cell_type": "code",
   "execution_count": 17,
   "metadata": {},
   "outputs": [],
   "source": [
    "# Training loop\n",
    "opt = optax.adam(LEARNING_RATE)\n",
    "opt_state = opt.init(eqx.filter(pinn, eqx.is_array))\n",
    "\n",
    "@eqx.filter_jit\n",
    "def update_fn(model, state):\n",
    "    loss, grads = eqx.filter_value_and_grad(loss_fn)(model)\n",
    "    updates, new_state = opt.update(grads, state, model)\n",
    "    new_model = eqx.apply_updates(model, updates)\n",
    "    return new_model, new_state, loss"
   ]
  },
  {
   "cell_type": "code",
   "execution_count": 18,
   "metadata": {},
   "outputs": [
    {
     "name": "stdout",
     "output_type": "stream",
     "text": [
      "Epoch 0, Loss: 47.00225830078125\n",
      "Epoch 100, Loss: 0.8480579257011414\n",
      "Epoch 200, Loss: 0.0799989402294159\n",
      "Epoch 300, Loss: 0.07999769598245621\n",
      "Epoch 400, Loss: 0.0799974873661995\n",
      "Epoch 500, Loss: 0.07999725639820099\n",
      "Epoch 600, Loss: 0.0799969956278801\n",
      "Epoch 700, Loss: 0.07999671250581741\n",
      "Epoch 800, Loss: 0.07999640703201294\n",
      "Epoch 900, Loss: 0.07999607175588608\n",
      "Epoch 1000, Loss: 0.07999571412801743\n",
      "Epoch 1100, Loss: 0.07999533414840698\n",
      "Epoch 1200, Loss: 0.07999493181705475\n",
      "Epoch 1300, Loss: 0.07999451458454132\n",
      "Epoch 1400, Loss: 0.07999405264854431\n",
      "Epoch 1500, Loss: 0.0799935907125473\n",
      "Epoch 1600, Loss: 0.07999309152364731\n",
      "Epoch 1700, Loss: 0.07999256253242493\n",
      "Epoch 1800, Loss: 0.07999202609062195\n",
      "Epoch 1900, Loss: 0.07999143749475479\n",
      "Epoch 2000, Loss: 0.07999083399772644\n",
      "Epoch 2100, Loss: 0.07999018579721451\n",
      "Epoch 2200, Loss: 0.07998950779438019\n",
      "Epoch 2300, Loss: 0.07998878508806229\n",
      "Epoch 2400, Loss: 0.0799880176782608\n",
      "Epoch 2500, Loss: 0.07998720556497574\n",
      "Epoch 2600, Loss: 0.0799863338470459\n",
      "Epoch 2700, Loss: 0.07998538762331009\n",
      "Epoch 2800, Loss: 0.0799843817949295\n",
      "Epoch 2900, Loss: 0.07998328655958176\n",
      "Epoch 3000, Loss: 0.07998209446668625\n",
      "Epoch 3100, Loss: 0.07998079806566238\n",
      "Epoch 3200, Loss: 0.07997937500476837\n",
      "Epoch 3300, Loss: 0.07997779548168182\n",
      "Epoch 3400, Loss: 0.07997605949640274\n",
      "Epoch 3500, Loss: 0.07997412979602814\n",
      "Epoch 3600, Loss: 0.07997195422649384\n",
      "Epoch 3700, Loss: 0.07996950298547745\n",
      "Epoch 3800, Loss: 0.07996673136949539\n",
      "Epoch 3900, Loss: 0.0799635797739029\n",
      "Epoch 4000, Loss: 0.07995997369289398\n",
      "Epoch 4100, Loss: 0.0799558013677597\n",
      "Epoch 4200, Loss: 0.0799509808421135\n",
      "Epoch 4300, Loss: 0.07994534820318222\n",
      "Epoch 4400, Loss: 0.07993874698877335\n",
      "Epoch 4500, Loss: 0.07993095368146896\n",
      "Epoch 4600, Loss: 0.07992172241210938\n",
      "Epoch 4700, Loss: 0.07991072535514832\n",
      "Epoch 4800, Loss: 0.07989755272865295\n",
      "Epoch 4900, Loss: 0.0798817127943039\n",
      "Epoch 5000, Loss: 0.07986258715391159\n",
      "Epoch 5100, Loss: 0.07983938604593277\n",
      "Epoch 5200, Loss: 0.07981108129024506\n",
      "Epoch 5300, Loss: 0.07977630943059921\n",
      "Epoch 5400, Loss: 0.07973319292068481\n",
      "Epoch 5500, Loss: 0.07967912405729294\n",
      "Epoch 5600, Loss: 0.07961048185825348\n",
      "Epoch 5700, Loss: 0.07952212542295456\n",
      "Epoch 5800, Loss: 0.07940686494112015\n",
      "Epoch 5900, Loss: 0.07925468683242798\n",
      "Epoch 6000, Loss: 0.07905153930187225\n",
      "Epoch 6100, Loss: 0.07877714186906815\n",
      "Epoch 6200, Loss: 0.07840108871459961\n",
      "Epoch 6300, Loss: 0.07787502557039261\n",
      "Epoch 6400, Loss: 0.0771157443523407\n",
      "Epoch 6500, Loss: 0.07595769315958023\n",
      "Epoch 6600, Loss: 0.07397527992725372\n",
      "Epoch 6700, Loss: 0.06999780237674713\n",
      "Epoch 6800, Loss: 0.062331974506378174\n",
      "Epoch 6900, Loss: 0.050431087613105774\n",
      "Epoch 7000, Loss: 0.03986173868179321\n",
      "Epoch 7100, Loss: 0.03504796326160431\n",
      "Epoch 7200, Loss: 0.03278117999434471\n",
      "Epoch 7300, Loss: 0.03127074986696243\n",
      "Epoch 7400, Loss: 0.030018072575330734\n",
      "Epoch 7500, Loss: 0.028848573565483093\n",
      "Epoch 7600, Loss: 0.02767828293144703\n",
      "Epoch 7700, Loss: 0.02646319568157196\n",
      "Epoch 7800, Loss: 0.02520485781133175\n",
      "Epoch 7900, Loss: 0.023943161591887474\n",
      "Epoch 8000, Loss: 0.022692590951919556\n",
      "Epoch 8100, Loss: 0.02141840197145939\n",
      "Epoch 8200, Loss: 0.020073601976037025\n",
      "Epoch 8300, Loss: 0.018612485378980637\n",
      "Epoch 8400, Loss: 0.017016576603055\n",
      "Epoch 8500, Loss: 0.015335110016167164\n",
      "Epoch 8600, Loss: 0.013689491897821426\n",
      "Epoch 8700, Loss: 0.012245956808328629\n",
      "Epoch 8800, Loss: 0.011135824955999851\n",
      "Epoch 8900, Loss: 0.010383235290646553\n",
      "Epoch 9000, Loss: 0.009924300014972687\n",
      "Epoch 9100, Loss: 0.009680934250354767\n",
      "Epoch 9200, Loss: 0.00958146434277296\n",
      "Epoch 9300, Loss: 0.009548591449856758\n",
      "Epoch 9400, Loss: 0.009535998106002808\n",
      "Epoch 9500, Loss: 0.009528746828436852\n",
      "Epoch 9600, Loss: 0.009523369371891022\n",
      "Epoch 9700, Loss: 0.009518924169242382\n",
      "Epoch 9800, Loss: 0.009515112265944481\n",
      "Epoch 9900, Loss: 0.009511657059192657\n",
      "Epoch 10000, Loss: 0.009508452378213406\n",
      "Epoch 10100, Loss: 0.009505421854555607\n",
      "Epoch 10200, Loss: 0.00950242392718792\n",
      "Epoch 10300, Loss: 0.009499507024884224\n",
      "Epoch 10400, Loss: 0.009496573358774185\n",
      "Epoch 10500, Loss: 0.009493651799857616\n",
      "Epoch 10600, Loss: 0.009490693919360638\n",
      "Epoch 10700, Loss: 0.009487667120993137\n",
      "Epoch 10800, Loss: 0.00948462076485157\n",
      "Epoch 10900, Loss: 0.009484202601015568\n",
      "Epoch 11000, Loss: 0.009478341788053513\n",
      "Epoch 11100, Loss: 0.009475133381783962\n",
      "Epoch 11200, Loss: 0.009472284466028214\n",
      "Epoch 11300, Loss: 0.00946859922260046\n",
      "Epoch 11400, Loss: 0.009465239010751247\n",
      "Epoch 11500, Loss: 0.009461984038352966\n",
      "Epoch 11600, Loss: 0.009472943842411041\n",
      "Epoch 11700, Loss: 0.009455257095396519\n",
      "Epoch 11800, Loss: 0.009456595405936241\n",
      "Epoch 11900, Loss: 0.00944843515753746\n",
      "Epoch 12000, Loss: 0.009483983740210533\n",
      "Epoch 12100, Loss: 0.009441586211323738\n",
      "Epoch 12200, Loss: 0.009483056142926216\n",
      "Epoch 12300, Loss: 0.009434673003852367\n",
      "Epoch 12400, Loss: 0.009441760368645191\n",
      "Epoch 12500, Loss: 0.009427758865058422\n",
      "Epoch 12600, Loss: 0.009424242191016674\n",
      "Epoch 12700, Loss: 0.009420687332749367\n",
      "Epoch 12800, Loss: 0.009417014196515083\n",
      "Epoch 12900, Loss: 0.009413449093699455\n",
      "Epoch 13000, Loss: 0.009409693069756031\n",
      "Epoch 13100, Loss: 0.009405937977135181\n",
      "Epoch 13200, Loss: 0.009401974268257618\n",
      "Epoch 13300, Loss: 0.00943803321570158\n",
      "Epoch 13400, Loss: 0.009393705055117607\n",
      "Epoch 13500, Loss: 0.009390030987560749\n",
      "Epoch 13600, Loss: 0.009384874254465103\n",
      "Epoch 13700, Loss: 0.009380205534398556\n",
      "Epoch 13800, Loss: 0.009376534260809422\n",
      "Epoch 13900, Loss: 0.009370161220431328\n",
      "Epoch 14000, Loss: 0.009364659897983074\n",
      "Epoch 14100, Loss: 0.00935904961079359\n",
      "Epoch 14200, Loss: 0.009352791123092175\n",
      "Epoch 14300, Loss: 0.009346455335617065\n",
      "Epoch 14400, Loss: 0.00933934561908245\n",
      "Epoch 14500, Loss: 0.009332000277936459\n",
      "Epoch 14600, Loss: 0.009323961101472378\n",
      "Epoch 14700, Loss: 0.009315536357462406\n",
      "Epoch 14800, Loss: 0.009306211024522781\n",
      "Epoch 14900, Loss: 0.009296542964875698\n",
      "Epoch 15000, Loss: 0.009285318665206432\n",
      "Epoch 15100, Loss: 0.009281855076551437\n",
      "Epoch 15200, Loss: 0.009260117076337337\n",
      "Epoch 15300, Loss: 0.009357142262160778\n",
      "Epoch 15400, Loss: 0.009228949435055256\n",
      "Epoch 15500, Loss: 0.009222380816936493\n",
      "Epoch 15600, Loss: 0.009189710952341557\n",
      "Epoch 15700, Loss: 0.009165742434561253\n",
      "Epoch 15800, Loss: 0.009138849563896656\n",
      "Epoch 15900, Loss: 0.009107133373618126\n",
      "Epoch 16000, Loss: 0.00907063577324152\n",
      "Epoch 16100, Loss: 0.00902759749442339\n",
      "Epoch 16200, Loss: 0.008976180106401443\n",
      "Epoch 16300, Loss: 0.008915101177990437\n",
      "Epoch 16400, Loss: 0.00884245801717043\n",
      "Epoch 16500, Loss: 0.008752545341849327\n",
      "Epoch 16600, Loss: 0.008645779453217983\n",
      "Epoch 16700, Loss: 0.008515181951224804\n",
      "Epoch 16800, Loss: 0.008361528627574444\n",
      "Epoch 16900, Loss: 0.008182036690413952\n",
      "Epoch 17000, Loss: 0.007980403490364552\n",
      "Epoch 17100, Loss: 0.007770603056997061\n",
      "Epoch 17200, Loss: 0.007535457145422697\n",
      "Epoch 17300, Loss: 0.007314773742109537\n",
      "Epoch 17400, Loss: 0.007135483436286449\n",
      "Epoch 17500, Loss: 0.0069266497157514095\n",
      "Epoch 17600, Loss: 0.006827160716056824\n",
      "Epoch 17700, Loss: 0.006656084209680557\n",
      "Epoch 17800, Loss: 0.006558528169989586\n",
      "Epoch 17900, Loss: 0.0064868321642279625\n",
      "Epoch 18000, Loss: 0.006429144646972418\n",
      "Epoch 18100, Loss: 0.006385393440723419\n",
      "Epoch 18200, Loss: 0.006373327225446701\n",
      "Epoch 18300, Loss: 0.006321671884506941\n",
      "Epoch 18400, Loss: 0.006297093350440264\n",
      "Epoch 18500, Loss: 0.006276506930589676\n",
      "Epoch 18600, Loss: 0.00625769654288888\n",
      "Epoch 18700, Loss: 0.006385853048413992\n",
      "Epoch 18800, Loss: 0.006222824566066265\n",
      "Epoch 18900, Loss: 0.006205650977790356\n",
      "Epoch 19000, Loss: 0.006188790313899517\n",
      "Epoch 19100, Loss: 0.0061711804009974\n",
      "Epoch 19200, Loss: 0.0061580464243888855\n",
      "Epoch 19300, Loss: 0.006134468596428633\n",
      "Epoch 19400, Loss: 0.006114071700721979\n",
      "Epoch 19500, Loss: 0.006092790514230728\n",
      "Epoch 19600, Loss: 0.0060703265480697155\n",
      "Epoch 19700, Loss: 0.006046178750693798\n",
      "Epoch 19800, Loss: 0.006021007429808378\n",
      "Epoch 19900, Loss: 0.005995993036776781\n"
     ]
    }
   ],
   "source": [
    "losses = []\n",
    "for epoch in range(N_EPOCHS):\n",
    "    pinn, opt_state, loss = update_fn(pinn, opt_state)\n",
    "    losses.append(loss)\n",
    "    if epoch % 100 == 0:\n",
    "        print(f\"Epoch {epoch}, Loss: {loss}\")"
   ]
  },
  {
   "cell_type": "code",
   "execution_count": 19,
   "metadata": {},
   "outputs": [
    {
     "data": {
      "image/png": "[encoded data removed]",
      "text/plain": [
       "<Figure size 640x480 with 1 Axes>"
      ]
     },
     "metadata": {},
     "output_type": "display_data"
    }
   ],
   "source": [
    "plt.plot(losses)\n",
    "plt.yscale(\"log\")"
   ]
  },
  {
   "cell_type": "code",
   "execution_count": 20,
   "metadata": {},
   "outputs": [
    {
     "data": {
      "image/png": "[encoded data removed]",
      "text/plain": [
       "<Figure size 640x480 with 1 Axes>"
      ]
     },
     "metadata": {},
     "output_type": "display_data"
    }
   ],
   "source": [
    "plt.plot(mesh_full, wrap_bc(finite_difference_sol), label=\"Finite Difference Solution\")\n",
    "plt.plot(mesh_full, jax.vmap(pinn)(mesh_full), label=\"Initial PINN Solution\")\n",
    "plt.legend()\n",
    "plt.grid()"
   ]
  },
  {
   "cell_type": "code",
   "execution_count": 21,
   "metadata": {},
   "outputs": [
    {
     "data": {
      "text/plain": [
       "(Array(0.03790583, dtype=float32), Array(0.08736317, dtype=float32))"
      ]
     },
     "execution_count": 21,
     "metadata": {},
     "output_type": "execute_result"
    }
   ],
   "source": [
    "pinn(0.33), jax.grad(pinn)(0.33)"
   ]
  },
  {
   "cell_type": "code",
   "execution_count": null,
   "metadata": {},
   "outputs": [],
   "source": []
  }
 ],
 "metadata": {
  "kernelspec": {
   "display_name": "fyp",
   "language": "python",
   "name": "python3"
  },
  "language_info": {
   "codemirror_mode": {
    "name": "ipython",
    "version": 3
   },
   "file_extension": ".py",
   "mimetype": "text/x-python",
   "name": "python",
   "nbconvert_exporter": "python",
   "pygments_lexer": "ipython3",
   "version": "3.9.19"
  }
 },
 "nbformat": 4,
 "nbformat_minor": 2
}
